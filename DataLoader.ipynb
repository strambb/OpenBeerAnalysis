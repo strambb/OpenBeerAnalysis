{
 "nbformat": 4,
 "nbformat_minor": 2,
 "metadata": {
  "language_info": {
   "name": "python",
   "codemirror_mode": {
    "name": "ipython",
    "version": 3
   },
   "version": "3.7.6-final"
  },
  "orig_nbformat": 2,
  "file_extension": ".py",
  "mimetype": "text/x-python",
  "name": "python",
  "npconvert_exporter": "python",
  "pygments_lexer": "ipython3",
  "version": 3,
  "kernelspec": {
   "name": "python37664bitc30deacdfc314bf0ab55258624adc68b",
   "display_name": "Python 3.7.6 64-bit"
  }
 },
 "cells": [
  {
   "cell_type": "markdown",
   "metadata": {},
   "source": [
    "# OpenBeer - DataLoader - Notebook  \n",
    "  \n",
    "### 0. Load modules"
   ]
  },
  {
   "cell_type": "code",
   "execution_count": 2,
   "metadata": {},
   "outputs": [],
   "source": [
    "#Load modules and set seaborn styles\n",
    "import numpy as np\n",
    "import pandas as pd\n",
    "import matplotlib.pyplot as plt \n",
    "import seaborn as sns\n",
    "sns.set()"
   ]
  },
  {
   "cell_type": "markdown",
   "metadata": {},
   "source": [
    "### I. Read Data"
   ]
  },
  {
   "cell_type": "code",
   "execution_count": 5,
   "metadata": {},
   "outputs": [
    {
     "output_type": "stream",
     "name": "stdout",
     "text": "brewery_id                    name cat_id style_id  abv ibu srm upc  \\\nid                                                                       \n1         812             Hocus Pocus     11      116  4.5   0   0   0   \n2         264       Grimbergen Blonde     -1       -1  6.7   0   0   0   \n3         779  Widdershins Barleywine     -1       -1  9.1   0   0   0   \n4         287                 Lucifer     -1       -1  8.5   0   0   0   \n5        1056                  Bitter     -1       -1    4   0   0   0   \n\n   filepath                                           descript  \\\nid                                                               \n1       NaN  Our take on a classic summer ale.  A toast to ...   \n2       NaN                                                NaN   \n3       NaN                                                NaN   \n4       NaN                                                NaN   \n5       NaN                                                NaN   \n\n               last_mod  \nid                       \n1   2010-07-22 20:00:20  \n2   2010-07-22 20:00:20  \n3   2010-07-22 20:00:20  \n4   2010-07-22 20:00:20  \n5   2010-07-22 20:00:20  \n"
    }
   ],
   "source": [
    "#set columns from header row of csv file and path\n",
    "columns_to_load = [\"id\",\"brewery_id\",\"name\",\"cat_id\",\"style_id\",\"abv\",\"ibu\",\"srm\",\"upc\",\"filepath\",\"descript\",\"last_mod\"]\n",
    "path = \"openbeerdb_csv\\\\beers.csv\"\n",
    "\n",
    "#read raw data\n",
    "df_raw = pd.read_csv(path, index_col=\"id\", usecols=columns_to_load)\n",
    "\n",
    "#explore top 5 rows if loaded correctly\n",
    "print(df_raw.head())\n",
    "\n",
    "\n",
    "comment =\"\"\"\n",
    "Column explanation:\n",
    "id = ID of the entry\n",
    "brewery_id = ID of the corresponding brewery\n",
    "name = Name of the beer\n",
    "cat_id = ID of the beer category\n",
    "style_id = ID of the beer style\n",
    "abv = ??\n",
    "ibu = ??\n",
    "srm = ??\n",
    "filepath = ??\n",
    "descript = Description of the beer style\n",
    "last_mod = Date/Time of last modification of the entry\n",
    "\"\"\""
   ]
  }
 ]
}