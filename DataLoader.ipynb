{
 "nbformat": 4,
 "nbformat_minor": 2,
 "metadata": {
  "language_info": {
   "name": "python",
   "codemirror_mode": {
    "name": "ipython",
    "version": 3
   },
   "version": "3.7.6-final"
  },
  "orig_nbformat": 2,
  "file_extension": ".py",
  "mimetype": "text/x-python",
  "name": "python",
  "npconvert_exporter": "python",
  "pygments_lexer": "ipython3",
  "version": 3,
  "kernelspec": {
   "name": "python37664bitc30deacdfc314bf0ab55258624adc68b",
   "display_name": "Python 3.7.6 64-bit"
  }
 },
 "cells": [
  {
   "cell_type": "markdown",
   "metadata": {},
   "source": [
    "# OpenBeer - DataLoader - Notebook  \n",
    "  \n",
    "### 0. Load modules"
   ]
  },
  {
   "cell_type": "code",
   "execution_count": 5,
   "metadata": {},
   "outputs": [],
   "source": [
    "#Load modules and set seaborn styles\n",
    "import numpy as np\n",
    "import pandas as pd\n",
    "import matplotlib.pyplot as plt \n",
    "import seaborn as sns\n",
    "import glob\n",
    "sns.set()"
   ]
  },
  {
   "cell_type": "markdown",
   "metadata": {},
   "source": [
    "### I. Read Data\n",
    "\n",
    "Column explanation for \"beers\": \n",
    "* id = ID of the entry\n",
    "* brewery_id = ID of the corresponding brewery\n",
    "* name = Name of the beer\n",
    "* cat_id = ID of the beer category\n",
    "* style_id = ID of the beer style\n",
    "* abv = Alcohol-by-volume (%)\n",
    "* ibu = Measure of bitterness (IBU)\n",
    "* srm = Standard Reference Method (SRM): Measurering color of the beer by passing 430nm wave lenght light through 1cm of beer. It represents a single point in absorbtio spectrum\n",
    "* filepath = ??\n",
    "* descript = Description of the beer style\n",
    "* last_mod = Date/Time of last modification of the entry"
   ]
  },
  {
   "cell_type": "code",
   "execution_count": 18,
   "metadata": {},
   "outputs": [
    {
     "output_type": "error",
     "ename": "KeyError",
     "evalue": "'data\\\\beers.csv'",
     "traceback": [
      "\u001b[1;31m---------------------------------------------------------------------------\u001b[0m",
      "\u001b[1;31mKeyError\u001b[0m                                  Traceback (most recent call last)",
      "\u001b[1;32m<ipython-input-18-dd0d386de478>\u001b[0m in \u001b[0;36m<module>\u001b[1;34m\u001b[0m\n\u001b[0;32m      9\u001b[0m \u001b[1;31m#read raw data for beers\u001b[0m\u001b[1;33m\u001b[0m\u001b[1;33m\u001b[0m\u001b[1;33m\u001b[0m\u001b[0m\n\u001b[0;32m     10\u001b[0m \u001b[1;32mfor\u001b[0m \u001b[0mf\u001b[0m \u001b[1;32min\u001b[0m \u001b[0mfiles\u001b[0m\u001b[1;33m:\u001b[0m\u001b[1;33m\u001b[0m\u001b[1;33m\u001b[0m\u001b[0m\n\u001b[1;32m---> 11\u001b[1;33m     \u001b[0mdf_temp\u001b[0m \u001b[1;33m=\u001b[0m \u001b[0mpd\u001b[0m\u001b[1;33m.\u001b[0m\u001b[0mread_csv\u001b[0m\u001b[1;33m(\u001b[0m\u001b[0mf\u001b[0m\u001b[1;33m,\u001b[0m \u001b[0mindex_col\u001b[0m\u001b[1;33m=\u001b[0m\u001b[1;34m\"id\"\u001b[0m\u001b[1;33m,\u001b[0m \u001b[0musecols\u001b[0m\u001b[1;33m=\u001b[0m\u001b[0mcolumns_to_load\u001b[0m\u001b[1;33m[\u001b[0m\u001b[0mf\u001b[0m\u001b[1;33m]\u001b[0m\u001b[1;33m)\u001b[0m\u001b[1;33m\u001b[0m\u001b[1;33m\u001b[0m\u001b[0m\n\u001b[0m\u001b[0;32m     12\u001b[0m     \u001b[0mdfs\u001b[0m\u001b[1;33m[\u001b[0m\u001b[0mf\u001b[0m\u001b[1;33m]\u001b[0m \u001b[1;33m=\u001b[0m \u001b[0mdf_temp\u001b[0m\u001b[1;33m.\u001b[0m\u001b[0mcopy\u001b[0m\u001b[1;33m(\u001b[0m\u001b[1;33m)\u001b[0m\u001b[1;33m\u001b[0m\u001b[1;33m\u001b[0m\u001b[0m\n\u001b[0;32m     13\u001b[0m \u001b[1;31m#explore top 5 rows if loaded correctly for each df\u001b[0m\u001b[1;33m\u001b[0m\u001b[1;33m\u001b[0m\u001b[1;33m\u001b[0m\u001b[0m\n",
      "\u001b[1;31mKeyError\u001b[0m: 'data\\\\beers.csv'"
     ]
    }
   ],
   "source": [
    "#set columns from header row of csv file and path\n",
    "columns_to_load = {\"beers.csv\":[\"id\",\"brewery_id\",\"name\",\"cat_id\",\"style_id\",\"abv\",\"ibu\",\"srm\",\"upc\",\"filepath\",\"descript\",\"last_mod\"],\"breweries.csv\":[\"id\",\"name\",\"address1\",\"address2\",\"city\",\"state\",\"code\",\"country\",\"phone\",\"website\",\"filepath\",\"descript\"], \"categories.csv\":[\"id\",\"cat_name\"], \"styles.csv\":[\"id\",\"cat_id\",\"style_name\"]}\n",
    "files = []\n",
    "\n",
    "for f in glob.glob(\"data\\*.csv\"):\n",
    "    files.append(f)\n",
    "dfs = {}\n",
    "\n",
    "#read raw data for beers\n",
    "for f in files:\n",
    "    df_temp = pd.read_csv(f, index_col=\"id\", usecols=columns_to_load[f])\n",
    "    dfs[f] = df_temp.copy()\n",
    "#explore top 5 rows if loaded correctly for each df\n",
    "for df in dfs:\n",
    "    print(df.key, df[df.key])"
   ]
  },
  {
   "cell_type": "code",
   "execution_count": 3,
   "metadata": {},
   "outputs": [
    {
     "output_type": "stream",
     "name": "stdout",
     "text": "<class 'pandas.core.frame.DataFrame'>\nIndex: 5861 entries, 1 to 5914\nData columns (total 11 columns):\nbrewery_id    5837 non-null object\nname          5837 non-null object\ncat_id        5832 non-null object\nstyle_id      5829 non-null object\nabv           5825 non-null object\nibu           5822 non-null object\nsrm           5822 non-null object\nupc           5822 non-null object\nfilepath      25 non-null object\ndescript      1972 non-null object\nlast_mod      5818 non-null object\ndtypes: object(11)\nmemory usage: 549.5+ KB\nNone \n        brewery_id      name  cat_id  style_id     abv   ibu   srm   upc  \\\ncount        5837      5837    5832      5829  5825.0  5822  5822  5822   \nunique       1650      4982      28       129   266.0    20    15     5   \ntop          1072  Pale Ale       3        -1     0.0     0     0     0   \nfreq           47        48    1248      1046  2648.0  4803  4809  4816   \n\n                 filepath                                           descript  \\\ncount                  25                                               1972   \nunique                 25                                               1966   \ntop     echigo_bottle.jpg  A series of single hop, small batch IPAs brewe...   \nfreq                    1                                                  3   \n\n                   last_mod  \ncount                  5818  \nunique                  214  \ntop     2010-07-22 20:00:20  \nfreq                   5569  \n"
    }
   ],
   "source": [
    "#Exploring Info, NaNs and Summary statistics\n",
    "print(df_beers_raw.info(), \"\\n\", df_beers_raw.describe())\n",
    ""
   ]
  },
  {
   "cell_type": "markdown",
   "metadata": {},
   "source": [
    "\n"
   ]
  },
  {
   "cell_type": "code",
   "execution_count": null,
   "metadata": {},
   "outputs": [],
   "source": []
  }
 ]
}