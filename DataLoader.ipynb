{
 "nbformat": 4,
 "nbformat_minor": 2,
 "metadata": {
  "language_info": {
   "name": "python",
   "codemirror_mode": {
    "name": "ipython",
    "version": 3
   },
   "version": "3.7.6-final"
  },
  "orig_nbformat": 2,
  "file_extension": ".py",
  "mimetype": "text/x-python",
  "name": "python",
  "npconvert_exporter": "python",
  "pygments_lexer": "ipython3",
  "version": 3,
  "kernelspec": {
   "name": "python37664bitc30deacdfc314bf0ab55258624adc68b",
   "display_name": "Python 3.7.6 64-bit"
  }
 },
 "cells": [
  {
   "cell_type": "markdown",
   "metadata": {},
   "source": [
    "# OpenBeer - DataLoader - Notebook  \n",
    "  \n",
    "### 0. Load modules"
   ],
   "execution_count": null,
   "outputs": []
  },
  {
   "cell_type": "code",
   "execution_count": null,
   "metadata": {},
   "outputs": [],
   "source": [
    "#Load modules and set seaborn styles\n",
    "import numpy as np\n",
    "import pandas as pd\n",
    "import matplotlib.pyplot as plt \n",
    "import seaborn as sns\n",
    "import glob\n",
    "sns.set()"
   ]
  },
  {
   "cell_type": "markdown",
   "metadata": {},
   "source": [
    "### I. Read Data"
   ],
   "execution_count": null,
   "outputs": []
  },
  {
   "cell_type": "code",
   "execution_count": null,
   "metadata": {
    "tags": [
     "outputPrepend"
    ]
   },
   "outputs": [],
   "source": [
    "#set columns from header row of csv file and path\n",
    "columns_to_load = { \"beers\":[\"id\",\"brewery_id\",\"name\",\"cat_id\",\"style_id\",\"abv\",\"ibu\",\"srm\",\"upc\",\"descript\"],\n",
    "                    \"breweries\":[\"id\",\"name\",\"address1\",\"address2\",\"city\",\"state\",\"code\",\"country\"], \n",
    "                    \"categories\":[\"id\",\"cat_name\"], \n",
    "                    \"styles\":[\"id\",\"cat_id\",\"style_name\"],\n",
    "                    \"breweries_geocode\":[\"id\",\"brewery_id\",\"latitude\",\"longitude\",\"accuracy\"]}\n",
    "\n",
    "dfs = {}\n",
    "paths = [name for name in glob.glob(\"data\\*.csv\")]\n",
    "files = [os.path.splitext(os.path.basename(name))[0] for name in glob.glob(\"data\\*.csv\")]\n",
    "#read raw data for beers\n",
    "for i,p in enumerate(paths):\n",
    "    df_temp = pd.read_csv(p, index_col=\"id\", usecols=columns_to_load[files[i]], na_values=[-1])\n",
    "    dfs[files[i]] = df_temp.copy()\n",
    "\n",
    "#explore top 5 rows if loaded correctly for each df\n",
    "for f in files:\n",
    "    print(f,dfs[f].info())\n",
    "\n",
    "#assign each df to a separate variable for further exploration\n",
    "df_beers_raw = dfs[\"beers\"]\n",
    "df_breweries_raw = dfs[\"breweries\"]\n",
    "df_breweries_geocode_raw = dfs[\"breweries_geocode\"]\n",
    "df_categories = dfs[\"categories\"]\n",
    "df_styles = dfs[\"styles\"]"
   ]
  },
  {
   "cell_type": "markdown",
   "metadata": {},
   "source": [
    "## Beers Cleaning and enhancement"
   ],
   "execution_count": null,
   "outputs": []
  },
  {
   "cell_type": "code",
   "execution_count": null,
   "metadata": {},
   "outputs": [],
   "source": [
    "#making a copy of beer from raw\n",
    "df_beers = df_beers_raw.copy()"
   ]
  },
  {
   "cell_type": "markdown",
   "metadata": {},
   "source": [
    "### Overview:"
   ],
   "execution_count": null,
   "outputs": []
  },
  {
   "cell_type": "code",
   "execution_count": null,
   "metadata": {},
   "outputs": [],
   "source": [
    "#Exploring Info, NaNs and Summary statistics\n",
    "\n",
    "for c in df_beers.columns:\n",
    "    print(df_beers[c].head())\n",
    "\n",
    "print(df_beers.info(), \"\\n\", df_beers.describe(), \"\\n\", df_beers.isna().sum())"
   ]
  },
  {
   "cell_type": "markdown",
   "metadata": {},
   "source": [
    "### Results:\n",
    "Things to do:  \n",
    "1. Change data types: ID will be replaced and still stored as objects, abv -> float, others->integers  \n",
    "2. get rid of NaNs:all columns with NaNs exepted descript, cat, style will be dropped, cat + style NaNs will be extraced to be filled afterwards, descript will be stored separately  \n",
    "3. exclude descript: second\n"
   ],
   "execution_count": null,
   "outputs": []
  },
  {
   "cell_type": "code",
   "execution_count": null,
   "metadata": {},
   "outputs": [],
   "source": [
    "\n",
    "\n",
    "#drop beers without name or measurements\n",
    "df_beers.dropna(subset=[\"name\", \"abv\", \"ibu\", \"srm\", \"upc\"], axis = 0, inplace = True)\n",
    "\n",
    "#extract NaN-rows in cat and style and save in csv\n",
    "df_beers_cat_style_nan = df_beers[df_beers[\"cat_id\"].isna() | df_beers[ \"style_id\"].isna()]\n",
    "df_beers_cat_style_nan.to_csv(\"data\\\\temp\\cat_style_nan.csv\")\n",
    "\n",
    "#extract and drop descript and save in csv\n",
    "df_beers_descript = df_beers[\"descript\"]\n",
    "df_beers_descript.to_csv(\"data\\\\temp\\\\beers_descript.csv\")\n",
    "df_beers = df_beers.drop(\"descript\", axis = 1)\n",
    "\n",
    "\n",
    "#drop all others beers with NaNs\n",
    "df_beers.dropna(axis=0, inplace=True)\n",
    "\n",
    ""
   ]
  },
  {
   "cell_type": "markdown",
   "metadata": {},
   "source": [
    "### Explore again"
   ],
   "execution_count": null,
   "outputs": []
  },
  {
   "cell_type": "code",
   "execution_count": null,
   "metadata": {},
   "outputs": [],
   "source": [
    "\n",
    "#get number of NaNs per column\n",
    "print(df_beers.isna().sum())\n",
    "\n",
    "#explore again\n",
    "print(df_beers.info())\n",
    "[print(df_beers[c].describe()) for c in df_beers.columns]"
   ]
  },
  {
   "cell_type": "markdown",
   "metadata": {},
   "source": [
    "### Checking column per column\n",
    "\n",
    "### 1. Name"
   ],
   "execution_count": null,
   "outputs": []
  },
  {
   "cell_type": "code",
   "execution_count": null,
   "metadata": {},
   "outputs": [],
   "source": [
    "#explore name\n",
    "print(df_beers[\"name\"].head())\n",
    "print(df_beers[\"name\"].describe())"
   ]
  },
  {
   "cell_type": "markdown",
   "metadata": {},
   "source": [
    "### Interesting Observations: There are beers with the same (probably generic) names. \n",
    "***Question: What are the top 10 most used names for beers? And how often are they used in the sample? Are they really generic?***"
   ],
   "execution_count": null,
   "outputs": []
  },
  {
   "cell_type": "code",
   "execution_count": null,
   "metadata": {},
   "outputs": [],
   "source": [
    "#top 10 names\n",
    "#get occurance of the 10th-often beer name\n",
    "occurance_10th_value = df_beers[\"name\"].value_counts().sort_values().tail(10).head(1)\n",
    "\n",
    "#form df with top 10 names and duplicate occurances\n",
    "df_grouped_names_often = df_beers.groupby(\"name\").filter(lambda x: len(x) > occurance_10th_value-1)\n",
    "\n",
    "#plot top 10 names and occurances\n",
    "df_grouped_names_often[\"name\"].value_counts().plot(kind=\"bar\")\n",
    "plt.show()\n",
    "\n",
    "print(\"Answer:\" ,\"\\n\",\" The top ten names are:\", \"\\n\")\n",
    "print(df_beers[\"name\"].value_counts().sort_values(ascending=False).head(10))\n",
    "print(\"They are generic and used in maximum 48 times used in this sample (Pale Ale)\")\n",
    "\n",
    "#Edit: changing the name of the column due to duplicate names with brewery\n",
    "df_beers[\"name_beer\"] = df_beers[\"name\"]\n",
    "df_beers.drop(\"name\", axis=1, inplace=True)"
   ]
  },
  {
   "cell_type": "markdown",
   "metadata": {},
   "source": [
    "### 2. Brewery_id"
   ],
   "execution_count": null,
   "outputs": []
  },
  {
   "cell_type": "code",
   "execution_count": null,
   "metadata": {},
   "outputs": [],
   "source": [
    "#explore brewery_id\n",
    "print(df_beers[\"brewery_id\"].head())\n",
    "print(df_beers[\"brewery_id\"].describe())"
   ]
  },
  {
   "cell_type": "markdown",
   "metadata": {},
   "source": [
    "### Observations: Some breweries have a larger variety of beers in this sample. The values are IDs only. We should enhance the dataset with names of the breweries, longitude and latitude to look who, where which beers brew the beers are brewed\n",
    "\n",
    "***Task: merge with brewery df on brewery_id, change id to name of the brewery, concat longitude and latitude, reorder meaningful***"
   ],
   "execution_count": null,
   "outputs": []
  },
  {
   "cell_type": "code",
   "execution_count": null,
   "metadata": {},
   "outputs": [],
   "source": [
    "#make a copy from raw for breweries and geocodes\n",
    "df_breweries = df_breweries_raw.copy()\n",
    "\n",
    "#add long and lat from brewery geocodes on brewery_id to brewery table\n",
    "df_breweries = pd.merge(df_breweries, df_breweries_geocode_raw, how=\"left\", left_on = \"id\", right_on = \"brewery_id\")\n",
    "df_breweries.drop(\"accuracy\", axis=1, inplace = True)\n",
    "df_breweries.reset_index(inplace=True)\n",
    "\n",
    "\n",
    "#merge beer with brewery on brewery_id\n",
    "df_beers_brewery = pd.merge(df_beers, df_breweries[[\"name\", \"city\", \"country\", \"latitude\", \"longitude\"]] , how=\"left\", left_on=\"brewery_id\" , right_on=df_breweries.index)\n",
    "df_beers_brewery[\"name_brewery\"] = df_beers_brewery[\"name\"]\n",
    "df_beers_brewery.drop([\"brewery_id\",\"name\"], axis=1, inplace=True)\n",
    "\n",
    "\n",
    "\n",
    "#reorder columns\n",
    "new_cols = ['name_beer', 'cat_id', 'style_id', 'abv', 'ibu', 'srm', 'upc', 'name_brewery', 'city',\n",
    "       'country', 'latitude', 'longitude']\n",
    "df_beers_brewery = df_beers_brewery[new_cols]\n",
    "df_beers_brewery.head()"
   ]
  },
  {
   "cell_type": "markdown",
   "metadata": {},
   "source": [
    "***Questions:  ***  \n",
    "***1. How many different beers are brewed on average per brewery?***   \n",
    "***2. Which are the top 5 most diverse breweries?***  \n",
    "***3. What is the avg diversity of beers brewed per brewery per country?***  \n",
    "***4. In which top 10 countries are the breweries most diverse?***"
   ],
   "execution_count": null,
   "outputs": []
  },
  {
   "cell_type": "code",
   "execution_count": null,
   "metadata": {},
   "outputs": [],
   "source": [
    "#1 Group by brewery\n",
    "df_grouped_brewery = df_beers_brewery.groupby(\"name_brewery\" )\n",
    "avg_beer_per_brewery = df_grouped_brewery[\"name_beer\"].count().mean()\n",
    "\n",
    "print(\"Answer 1: On average(mean) {:.2f} beers are brewed per brewery\".format(avg_beer_per_brewery), \"\\n\")\n",
    "\n",
    "#2 used grouped_object\n",
    "print(\"Answer 2: The top 5 most diverse breweries are:\")\n",
    "print(df_grouped_brewery[\"name_beer\"].count().nlargest(5), \"\\n\")\n",
    "\n",
    "#3 calculate beers/country div by breweries/country\n",
    "avg_div_per_country = df_beers_brewery.groupby(\"country\")[\"name_beer\"].nunique() / df_beers_brewery.groupby(\"country\")[\"name_brewery\"].nunique()\n",
    "print(\"Answer 3: The average diversity in brewed beers per brewerie per country is:\" ,\"\\n\",avg_div_per_country.sort_values(ascending = False), \"\\n\")\n",
    "#4 get largest 10 and make comment on how many breweries are in a country\n",
    "print(\"Answer 4: The top ten brewery-diversity countries are:\",\"\\n\",avg_div_per_country.nlargest(10), \"\\n\")\n",
    "print(\"Comment on 4:\")\n",
    "for country in avg_div_per_country.nlargest(10).reset_index()[\"country\"]:\n",
    "    print(country + \" has {} brewery(s)\".format(df_beers_brewery.groupby(\"country\").get_group(country)[\"name_brewery\"].nunique()))"
   ]
  }
 ]
}