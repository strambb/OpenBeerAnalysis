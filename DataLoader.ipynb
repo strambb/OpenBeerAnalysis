{
 "nbformat": 4,
 "nbformat_minor": 2,
 "metadata": {
  "language_info": {
   "name": "python",
   "codemirror_mode": {
    "name": "ipython",
    "version": 3
   },
   "version": "3.7.6-final"
  },
  "orig_nbformat": 2,
  "file_extension": ".py",
  "mimetype": "text/x-python",
  "name": "python",
  "npconvert_exporter": "python",
  "pygments_lexer": "ipython3",
  "version": 3,
  "kernelspec": {
   "name": "python37664bitc30deacdfc314bf0ab55258624adc68b",
   "display_name": "Python 3.7.6 64-bit"
  }
 },
 "cells": [
  {
   "cell_type": "markdown",
   "metadata": {},
   "source": [
    "# OpenBeer - DataLoader - Notebook  \n",
    "  \n",
    "### 0. Load modules"
   ],
   "execution_count": null,
   "outputs": []
  },
  {
   "cell_type": "code",
   "execution_count": null,
   "metadata": {},
   "outputs": [],
   "source": [
    "#Load modules and set seaborn styles\n",
    "import numpy as np\n",
    "import pandas as pd\n",
    "import matplotlib.pyplot as plt \n",
    "import seaborn as sns\n",
    "import glob\n",
    "sns.set()"
   ]
  },
  {
   "cell_type": "markdown",
   "metadata": {},
   "source": [
    "### I. Read Data"
   ],
   "execution_count": null,
   "outputs": []
  },
  {
   "cell_type": "code",
   "execution_count": null,
   "metadata": {
    "tags": [
     "outputPrepend"
    ]
   },
   "outputs": [],
   "source": [
    "#set columns from header row of csv file and path\n",
    "columns_to_load = { \"beers\":[\"id\",\"brewery_id\",\"name\",\"cat_id\",\"style_id\",\"abv\",\"ibu\",\"srm\",\"upc\",\"filepath\",\"descript\"],\n",
    "                    \"breweries\":[\"id\",\"name\",\"address1\",\"address2\",\"city\",\"state\",\"code\",\"country\",\"phone\",\"website\",\"filepath\",\"descript\"], \n",
    "                    \"categories\":[\"id\",\"cat_name\"], \n",
    "                    \"styles\":[\"id\",\"cat_id\",\"style_name\"],\n",
    "                    \"breweries_geocode\":[\"id\",\"brewery_id\",\"latitude\",\"longitude\",\"accuracy\"]}\n",
    "\n",
    "dfs = {}\n",
    "paths = [name for name in glob.glob(\"data\\*.csv\")]\n",
    "files = [os.path.splitext(os.path.basename(name))[0] for name in glob.glob(\"data\\*.csv\")]\n",
    "#read raw data for beers\n",
    "for i,p in enumerate(paths):\n",
    "    df_temp = pd.read_csv(p, index_col=\"id\", usecols=columns_to_load[files[i]])\n",
    "    dfs[files[i]] = df_temp.copy()\n",
    "\n",
    "#explore top 5 rows if loaded correctly for each df\n",
    "for f in files:\n",
    "    print(dfs[f].head())\n",
    "\n",
    "#assign each df to a separate variable for further exploration\n",
    "df_beers_raw = dfs[\"beers\"]\n",
    "df_breweries_raw = dfs[\"breweries\"]\n",
    "df_breweries_geocode_raw = dfs[\"breweries_geocode\"]\n",
    "df_categories = dfs[\"categories\"]\n",
    "df_styles = dfs[\"styles\"]"
   ]
  },
  {
   "cell_type": "code",
   "execution_count": null,
   "metadata": {},
   "outputs": [],
   "source": [
    "#Exploring Info, NaNs and Summary statistics\n",
    "print(df_beers_raw.info(), \"\\n\", df_beers_raw.describe())\n",
    ""
   ]
  },
  {
   "cell_type": "markdown",
   "metadata": {},
   "source": [
    "\n"
   ],
   "execution_count": null,
   "outputs": []
  },
  {
   "cell_type": "code",
   "execution_count": null,
   "metadata": {},
   "outputs": [],
   "source": []
  }
 ]
}